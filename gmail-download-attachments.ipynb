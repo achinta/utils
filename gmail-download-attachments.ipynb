{
 "cells": [
  {
   "cell_type": "markdown",
   "metadata": {},
   "source": [
    "Following the steps from https://developers.google.com/gmail/api/quickstart/python?authuser=1\n",
    "\n",
    "**Step 1**: Enable the gmail api and save the client configuration file.\n",
    "\n",
    "**Step 2**: Install google client library"
   ]
  },
  {
   "cell_type": "code",
   "execution_count": 14,
   "metadata": {},
   "outputs": [],
   "source": [
    "# !pip install --upgrade google-api-python-client google-auth-httplib2 google-auth-oauthlib"
   ]
  },
  {
   "cell_type": "markdown",
   "metadata": {},
   "source": []
  },
  {
   "cell_type": "code",
   "execution_count": 10,
   "metadata": {},
   "outputs": [],
   "source": [
    "from __future__ import print_function\n",
    "import pickle\n",
    "import os.path\n",
    "from googleapiclient.discovery import build\n",
    "from google_auth_oauthlib.flow import InstalledAppFlow\n",
    "from google.auth.transport.requests import Request\n",
    "from apiclient import errors\n",
    "import base64\n",
    "from pathlib import Path\n",
    "\n",
    "# If modifying these scopes, delete the file token.pickle.\n",
    "SCOPES = ['https://www.googleapis.com/auth/gmail.readonly']\n",
    "\n",
    "def get_service():\n",
    "    \"\"\"Shows basic usage of the Gmail API.\n",
    "    Lists the user's Gmail labels.\n",
    "    \"\"\"\n",
    "    creds = None\n",
    "    # The file token.pickle stores the user's access and refresh tokens, and is\n",
    "    # created automatically when the authorization flow completes for the first\n",
    "    # time.\n",
    "    if os.path.exists('token.pickle'):\n",
    "        with open('token.pickle', 'rb') as token:\n",
    "            creds = pickle.load(token)\n",
    "    # If there are no (valid) credentials available, let the user log in.\n",
    "    if not creds or not creds.valid:\n",
    "        if creds and creds.expired and creds.refresh_token:\n",
    "            creds.refresh(Request())\n",
    "        else:\n",
    "            flow = InstalledAppFlow.from_client_secrets_file('gmail_chinta512_credentials.json', SCOPES)\n",
    "            creds = flow.run_local_server(port=0)\n",
    "        # Save the credentials for the next run\n",
    "        with open('token.pickle', 'wb') as token:\n",
    "            pickle.dump(creds, token)\n",
    "\n",
    "    service = build('gmail', 'v1', credentials=creds)\n",
    "    return service\n",
    "\n",
    "# copied from https://developers.google.com/gmail/api/v1/reference/users/messages/list#examples\n",
    "def ListMessagesMatchingQuery(service, user_id, query=''):\n",
    "    \"\"\"List all Messages of the user's mailbox matching the query.\n",
    "\n",
    "    Args:\n",
    "    service: Authorized Gmail API service instance.\n",
    "    user_id: User's email address. The special value \"me\"\n",
    "    can be used to indicate the authenticated user.\n",
    "    query: String used to filter messages returned.\n",
    "    Eg.- 'from:user@some_domain.com' for Messages from a particular sender.\n",
    "\n",
    "    Returns:\n",
    "    List of Messages that match the criteria of the query. Note that the\n",
    "    returned list contains Message IDs, you must use get with the\n",
    "    appropriate ID to get the details of a Message.\n",
    "    \"\"\"\n",
    "    try:\n",
    "        response = service.users().messages().list(userId=user_id,\n",
    "                                                   q=query).execute()\n",
    "        messages = []\n",
    "        if 'messages' in response:\n",
    "            messages.extend(response['messages'])\n",
    "\n",
    "        while 'nextPageToken' in response:\n",
    "            page_token = response['nextPageToken']\n",
    "            response = service.users().messages().list(userId=user_id, q=query,\n",
    "                                             pageToken=page_token).execute()\n",
    "            messages.extend(response['messages'])\n",
    "\n",
    "        return messages\n",
    "    except errors.HttpError as e:\n",
    "        print('An error occurred: %s' % e)\n",
    "            \n",
    "def get_attachments(service, user_id, message_id, save_dir='./attachments', overwrite=False):\n",
    "    message = service.users().messages().get(userId=user_id, id=message_id).execute()\n",
    "    for part in message['payload']['parts']:\n",
    "        if part['filename']:\n",
    "            att_id = part['body']['attachmentId']\n",
    "            path = Path.cwd()/save_dir/part['filename']\n",
    "            \n",
    "            #do not download again if file already present\n",
    "            if not overwrite and Path.exists(path):\n",
    "                continue\n",
    "                \n",
    "            #download the attachment\n",
    "            att = service.users().messages().attachments().get(userId=user_id, messageId=message_id,id=att_id).execute()\n",
    "            data = att['data']\n",
    "            file_data = base64.urlsafe_b64decode(data.encode('UTF-8'))\n",
    "            \n",
    "            Path.mkdir(Path.cwd()/save_dir, exist_ok=True)\n",
    "            with open(path, 'wb') as f:\n",
    "                f.write(file_data)\n",
    "            print(f'wrote attachment to {path.as_posix()}')"
   ]
  },
  {
   "cell_type": "markdown",
   "metadata": {},
   "source": [
    "#### Get list of message ids"
   ]
  },
  {
   "cell_type": "code",
   "execution_count": 7,
   "metadata": {},
   "outputs": [],
   "source": [
    "service = get_service()\n",
    "query = \"from:whispers@sahajmarg.info has:attachment\"\n",
    "user_id = \"me\"\n",
    "messages = ListMessagesMatchingQuery(service, user_id, query)"
   ]
  },
  {
   "cell_type": "code",
   "execution_count": 8,
   "metadata": {},
   "outputs": [
    {
     "data": {
      "text/plain": [
       "3312"
      ]
     },
     "execution_count": 8,
     "metadata": {},
     "output_type": "execute_result"
    }
   ],
   "source": [
    "len(messages)"
   ]
  },
  {
   "cell_type": "markdown",
   "metadata": {},
   "source": [
    "#### Fetch attachments"
   ]
  },
  {
   "cell_type": "code",
   "execution_count": 13,
   "metadata": {},
   "outputs": [],
   "source": [
    "for idx, message in enumerate(messages):\n",
    "    get_attachments(service, user_id, message['id']) "
   ]
  },
  {
   "cell_type": "code",
   "execution_count": null,
   "metadata": {},
   "outputs": [],
   "source": []
  },
  {
   "cell_type": "code",
   "execution_count": null,
   "metadata": {},
   "outputs": [],
   "source": []
  }
 ],
 "metadata": {
  "kernelspec": {
   "display_name": "Python 3",
   "language": "python",
   "name": "python3"
  },
  "language_info": {
   "codemirror_mode": {
    "name": "ipython",
    "version": 3
   },
   "file_extension": ".py",
   "mimetype": "text/x-python",
   "name": "python",
   "nbconvert_exporter": "python",
   "pygments_lexer": "ipython3",
   "version": "3.6.10"
  }
 },
 "nbformat": 4,
 "nbformat_minor": 2
}
